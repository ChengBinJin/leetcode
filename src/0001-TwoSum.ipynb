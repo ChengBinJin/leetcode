{
 "cells": [
  {
   "cell_type": "markdown",
   "metadata": {},
   "source": [
    "## Description\n",
    "Given an array of integers, return __indices__ of the two numbers such that they add up to a specific target.  \n",
    "You may assume that each input would have **exactly** one solution, and you may not use the same element twice.\n",
    "\n",
    "__Example:__  \n",
    "\n",
    "Given nums = [2, 7, 11, 15], target = 9,  \n",
    "  \n",
    "Because nums[0] + nums[1] = 2 + 7 = 9,  \n",
    "return [0, 1]"
   ]
  },
  {
   "cell_type": "code",
   "execution_count": null,
   "metadata": {},
   "outputs": [],
   "source": [
    "class Solution:  \n",
    "    def twoSum(self, nums: List[int], target: int) -> List[int]:"
   ]
  },
  {
   "cell_type": "markdown",
   "metadata": {},
   "source": [
    "## Approach 1: Brute Force  \n",
    "  \n",
    "The brute force appraoch is simple. Loop through each element _x_ and find if there is another value that equals to target - *x*."
   ]
  },
  {
   "cell_type": "code",
   "execution_count": 2,
   "metadata": {},
   "outputs": [
    {
     "name": "stdout",
     "output_type": "stream",
     "text": [
      "[1, 3]\n"
     ]
    }
   ],
   "source": [
    "class Solution(object):\n",
    "    def twoSum(self, nums, target):\n",
    "        \"\"\"\n",
    "        :type nums: List[int]\n",
    "        :type target: int\n",
    "        :rtype: List[int]\n",
    "        \"\"\"\n",
    "        # n^2\n",
    "        ls = len(nums)\n",
    "        for i in range(ls):\n",
    "            for j in range(i + 1, ls):\n",
    "                if nums[i] + nums[j] == target:\n",
    "                    return [i, j]\n",
    "\n",
    "if __name__ == '__main__':\n",
    "    s = Solution()\n",
    "    print(s.twoSum([3, 2, 4, 2], 4))"
   ]
  },
  {
   "cell_type": "markdown",
   "metadata": {},
   "source": [
    "### Complexity Analysis\n",
    "\n",
    "- Time complexity: $O(n^2)$. For each element, we try to find its complement by looping through the rest of array which takes $O(n)$ time. Therefore, the time complexity is $O(n^2)$.\n",
    "- Space complexity: $O(1)$."
   ]
  },
  {
   "cell_type": "markdown",
   "metadata": {},
   "source": [
    "## Appraoch 2: Two-pass Hash Table  \n",
    "  \n",
    "To improve our run time complexity, we need a more efficient way to check if the complement exists in the array. If the complement exists, we need to look up its index. What is the best way to maintain a mapping of each element in the array to its index? A hash table.  \n",
    "  \n",
    "We reduce the look up time from $O(n)$ to $O(1)$ by trading space for speed. A hash table is built exactly for this purpose, it supports fast look up in *near* constant time. I say \"near\" because if a collision occurred, a look up could degenerate to $O(n)$ time. But look up in hash table should be amortized $O(1)$ time as long as the hash function was chosen carefully.  \n",
    "  \n",
    "A simple implementation uses two iterations. In the first iteration, we add each element's value and its index to the table. Then, in the second iteration we check if each element's complement (_target_ - *nums*([_i_]) exists in the table. Beware that the complement must not be *nums*[_i_] itself!"
   ]
  },
  {
   "cell_type": "code",
   "execution_count": 25,
   "metadata": {},
   "outputs": [
    {
     "name": "stdout",
     "output_type": "stream",
     "text": [
      "[0, 2]\n"
     ]
    }
   ],
   "source": [
    "class Solution(object):\n",
    "    def twoSum(self, nums, target):\n",
    "        \"\"\"\n",
    "        :type nums: List[int]\n",
    "        :type target: int\n",
    "        :rtype: List[int]\n",
    "        \"\"\"\n",
    "        # hash 1\n",
    "        hash_nums = {}\n",
    "        for index, num in enumerate(nums):\n",
    "            if num not in hash_nums:\n",
    "                hash_nums[num] = [index]\n",
    "            else:\n",
    "                hash_nums[num].append(index)\n",
    "            \n",
    "        for index, num in enumerate(nums):\n",
    "            another = target - num\n",
    "            \n",
    "            if another in hash_nums:\n",
    "                candidate = hash_nums[another]\n",
    "                \n",
    "                if another == num:\n",
    "                    if len(candidate) > 1:\n",
    "                        return candidate\n",
    "                    else:\n",
    "                        continue\n",
    "                return [index, candidate[0]]\n",
    "                \n",
    "            else:\n",
    "                pass\n",
    "            \n",
    "\n",
    "if __name__ == '__main__':\n",
    "    s = Solution()\n",
    "    print(s.twoSum([3, 2, 4, 2, 5], 7))"
   ]
  },
  {
   "cell_type": "markdown",
   "metadata": {},
   "source": [
    "### Complexity Analysis  \n",
    "  \n",
    "- Time complexity: $O(n)$. We traverse the list containing *n* elements exactly twice. Since the hash table reduces the look up time to $O(1)$, the time complexity is $O(n)$.  \n",
    "- Space complexity: $O(n)$. The extra space required dpends on the number of items stored in the hash table, which stores exactly *n* elements."
   ]
  },
  {
   "cell_type": "markdown",
   "metadata": {},
   "source": [
    "## Approach 3: One-pass Hash Table  \n",
    "  \n",
    "It turns out we can do it in one-pass. While we iterate and inserting elements into the table, we also look back to check if current element's complement already exists in the table. If it exists, we have found a solution and return immediately."
   ]
  },
  {
   "cell_type": "code",
   "execution_count": 28,
   "metadata": {},
   "outputs": [
    {
     "name": "stdout",
     "output_type": "stream",
     "text": [
      "[0, 2]\n"
     ]
    }
   ],
   "source": [
    "class Solution(object):\n",
    "    def twoSum(self, nums, target):\n",
    "        \"\"\"\n",
    "        :type nums: List[int]\n",
    "        :type target: int\n",
    "        :rtype List[int]\n",
    "        \"\"\"\n",
    "        hash_nums = {}\n",
    "        \n",
    "        for index, num in enumerate(nums):\n",
    "            another = target - num\n",
    "            if another not in hash_nums:\n",
    "                hash_nums[num] = index\n",
    "            else:\n",
    "                return [hash_nums[another], index]\n",
    "            \n",
    "if __name__ == '__main__':\n",
    "    s = Solution()\n",
    "    print(s.twoSum([3, 2, 4, 2, 5], 7))"
   ]
  },
  {
   "cell_type": "markdown",
   "metadata": {},
   "source": [
    "### Complexity Analysis:  \n",
    "  \n",
    "- Time complexity: $O(n)$. We traverse the list containing *n* elements only once. Each look up in the table costs only $O(1)$ time.  \n",
    "- Space complexity: $O(n)$. The extra space required depends on the number of items stored in the hash table, which stores at most *n* elements."
   ]
  },
  {
   "cell_type": "markdown",
   "metadata": {},
   "source": [
    "## Approach 3: One-pass Hash Table with Sorting"
   ]
  },
  {
   "cell_type": "code",
   "execution_count": 12,
   "metadata": {},
   "outputs": [
    {
     "name": "stdout",
     "output_type": "stream",
     "text": [
      "[1, 0]\n"
     ]
    }
   ],
   "source": [
    "class Solution(object):\n",
    "    def twoSum(self, nums, target):\n",
    "        \"\"\"\n",
    "        :type nums: List[int]\n",
    "        :type tartet: int\n",
    "        :rtype List[int]\n",
    "        \"\"\"\n",
    "        # two point\n",
    "        nums_index = [(v, index) for index, v in enumerate(nums)]\n",
    "        nums_index.sort()\n",
    "        \n",
    "        begin, end = 0, len(nums) - 1\n",
    "        while begin < end:\n",
    "            cur_sum = nums_index[begin][0] + nums_index[end][0]\n",
    "            \n",
    "            if cur_sum == target:\n",
    "                return [nums_index[begin][1], nums_index[end][1]]\n",
    "            elif cur_sum > target:\n",
    "                end -= 1\n",
    "            else:\n",
    "                begin += 1\n",
    "\n",
    "\n",
    "if __name__ == '__main__':\n",
    "    s = Solution()\n",
    "    print(s.twoSum([3, 2, 4, 2, 5], 5))"
   ]
  }
 ],
 "metadata": {
  "kernelspec": {
   "display_name": "Python 3",
   "language": "python",
   "name": "python3"
  },
  "language_info": {
   "codemirror_mode": {
    "name": "ipython",
    "version": 3
   },
   "file_extension": ".py",
   "mimetype": "text/x-python",
   "name": "python",
   "nbconvert_exporter": "python",
   "pygments_lexer": "ipython3",
   "version": "3.7.3"
  }
 },
 "nbformat": 4,
 "nbformat_minor": 2
}
