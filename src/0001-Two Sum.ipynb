{
 "cells": [
  {
   "cell_type": "markdown",
   "metadata": {},
   "source": [
    "## Description\n",
    "Given an array of integers, return __indices__ of the two numbers such that they add up to a specific target.  \n",
    "You may assume that each input would have **exactly** one solution, and you may not use the same element twice.\n",
    "\n",
    "__Example:__  \n",
    "\n",
    "Given nums = [2, 7, 11, 15], target = 9,  \n",
    "  \n",
    "Because nums[0] + nums[1] = 2 + 7 = 9,  \n",
    "return [0, 1]"
   ]
  },
  {
   "cell_type": "code",
   "execution_count": null,
   "metadata": {},
   "outputs": [],
   "source": [
    "class Solution:  \n",
    "    def twoSum(self, nums: List[int], target: int) -> List[int]:"
   ]
  },
  {
   "cell_type": "markdown",
   "metadata": {},
   "source": [
    "**Hint 1**\n",
    "\n",
    "A really brute force way would be to search for all possible paris of numbers but that would be too slow. Again. it's best to try out brute force solutions for just for completeness. It is from these brute force solutions that you can come up with optimizations."
   ]
  },
  {
   "cell_type": "code",
   "execution_count": 6,
   "metadata": {},
   "outputs": [
    {
     "name": "stdout",
     "output_type": "stream",
     "text": [
      "[1, 3]\n"
     ]
    }
   ],
   "source": [
    "class Solution(object):\n",
    "    def twoSum(self, nums, target):\n",
    "        \"\"\"\n",
    "        :type nums: List[int]\n",
    "        :type target: int\n",
    "        :rtype: List[int]\n",
    "        \"\"\"\n",
    "        # n^2\n",
    "        ls = len(nums)\n",
    "        for i in range(ls):\n",
    "            for j in range(i + 1, ls):\n",
    "                if nums[i] + nums[j] == target:\n",
    "                    return [i, j]\n",
    "\n",
    "if __name__ == '__main__':\n",
    "    s = Solution()\n",
    "    print(s.twoSum([3, 2, 4, 2], 4))"
   ]
  },
  {
   "cell_type": "markdown",
   "metadata": {},
   "source": [
    "**Hint 2**  \n",
    "\n",
    "So, if we fix one of the numbers, say  \n",
    "x\n",
    "\n",
    ", we have to scan the entire array to find the next number  \n",
    "y  \n",
    "\n",
    "which is   \n",
    "value - x  \n",
    "\n",
    "where value is the input parameter. Can we change our array somehow so that this search becomes faster?"
   ]
  },
  {
   "cell_type": "code",
   "execution_count": 23,
   "metadata": {},
   "outputs": [
    {
     "name": "stdout",
     "output_type": "stream",
     "text": [
      "None\n"
     ]
    }
   ],
   "source": [
    "class Solution(object):\n",
    "    def twoSum(self, nums, target):\n",
    "        \"\"\"\n",
    "        :type nums: List[int]\n",
    "        :type target: int\n",
    "        :rtype: List[int]\n",
    "        \"\"\"\n",
    "        # hash 1\n",
    "        hash_nums = {}\n",
    "        for index, num in enumerate(nums):\n",
    "            try:\n",
    "                hash_nums[num].append(index)\n",
    "            except KeyError:\n",
    "                hash_nums[num] = [index]\n",
    "            \n",
    "        for index, num in enumerate(nums):\n",
    "            another = target - num\n",
    "            \n",
    "            try:\n",
    "                candidate = hash_nums[another]\n",
    "                if another == num:\n",
    "                    if len(candidate) > 1:\n",
    "                        return candidate\n",
    "                    else:\n",
    "                        continue\n",
    "                return [index, candidate[0]]\n",
    "                \n",
    "            except KeyError:\n",
    "                pass\n",
    "            \n",
    "\n",
    "if __name__ == '__main__':\n",
    "    s = Solution()\n",
    "    print(s.twoSum([3, 2, 4, 2, 5], 10))"
   ]
  }
 ],
 "metadata": {
  "kernelspec": {
   "display_name": "Python 3",
   "language": "python",
   "name": "python3"
  },
  "language_info": {
   "codemirror_mode": {
    "name": "ipython",
    "version": 3
   },
   "file_extension": ".py",
   "mimetype": "text/x-python",
   "name": "python",
   "nbconvert_exporter": "python",
   "pygments_lexer": "ipython3",
   "version": "3.6.8"
  }
 },
 "nbformat": 4,
 "nbformat_minor": 2
}
