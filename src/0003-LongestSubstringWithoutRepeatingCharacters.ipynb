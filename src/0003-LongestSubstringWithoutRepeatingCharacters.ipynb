{
 "cells": [
  {
   "cell_type": "markdown",
   "metadata": {},
   "source": [
    "# Longest Substring Without Repeating Characters  \n",
    "  \n",
    "Given a string, find the length of the **longest substring** without repeating characters.  \n",
    "\n",
    "**Example 1:**  \n",
    "  \n",
    "**Input:** \"abcabcbb\"  \n",
    "**Output:** 3  \n",
    "**Explanation:** The answer is \"abc\", with the length of 3.  \n",
    "  \n",
    "**Example 2:**  \n",
    "**Input:** \"bbbbb\"\n",
    "**Output:** 1\n",
    "**Explanation:** The answer is \"b\", with the length of 1.  \n",
    "  \n",
    "**Example 3:**  \n",
    "**Input:** \"pwwkew\"  \n",
    "**Output:** 3  \n",
    "**Explanation:** The answer is \"wke\", with the length of 3.  \n",
    "                 Note that the answer must be a **substring**, \"pwke\" is a subsequence and not a substring."
   ]
  },
  {
   "cell_type": "code",
   "execution_count": null,
   "metadata": {},
   "outputs": [],
   "source": [
    "class Solution:\n",
    "    def lengthOfLongestSubstring(self, s: str) -> int:"
   ]
  },
  {
   "cell_type": "markdown",
   "metadata": {},
   "source": [
    "## Approach 1: Brute Force  \n",
    "#### Intuition  \n",
    "  \n",
    "Check all the substring one by one to see if it has no duplicate character.  \n",
    "  \n",
    "### Algorithm  \n",
    "  \n",
    "Suppose we hav a function **boolean allUnique(String substring)** which will return true if the characters in the substring are all unique, otherwise false. We can iterate through all the possible substrings of the given string __s__ and call the function **allUnique**. If it turns out to be true, then we update our answer of the maximum length of substring without duplicate characters.  \n",
    "  \n",
    "Now let's fill the missing parts:  \n",
    "- To enumerate all substrings of a given string, we enumerate the start and end indices of them. Suppose the start and end indices are $i$ and $j$, respectively. Then we have $ 0 \\leq i < j \\leq n$ (here end index $j$ is exclusive by convention). Thus, using two nested loops with $i$ from $0$ to $n - 1$ and $j$ from $i + 1$ to $n$, we can enumerate all the substrings of **s**.\n",
    "- To check if one string has duplicate characters, we can use a set. We iterate through all the characters in the string and put them into the **set** one by one. Before putting one character, we check if the set already contains it. If so, we return __false__. After loop, we return **true**."
   ]
  },
  {
   "cell_type": "code",
   "execution_count": 4,
   "metadata": {},
   "outputs": [
    {
     "name": "stdout",
     "output_type": "stream",
     "text": [
      "3\n",
      "1\n",
      "3\n"
     ]
    }
   ],
   "source": [
    "class Solution:\n",
    "    def lengthOfLongestSubstring(self, s):\n",
    "        n = len(s)\n",
    "        ans = 0\n",
    "        for i in range(n - 1):\n",
    "            for j in range(i + 1, n):\n",
    "                if self.allUnique(s, i, j):\n",
    "                    ans = max(ans, j - i)\n",
    "                    \n",
    "        return ans\n",
    "    \n",
    "    def allUnique(self, s, start, end):\n",
    "        set_list = list()\n",
    "        \n",
    "        for i in range(start, end):\n",
    "            ch = s[i]\n",
    "            if ch in set_list:\n",
    "                return False\n",
    "            else:\n",
    "                set_list.append(ch)\n",
    "        \n",
    "        return True\n",
    "        \n",
    "\n",
    "if __name__ == '__main__':\n",
    "    s = Solution()\n",
    "    print(s.lengthOfLongestSubstring('abcabcbb'))\n",
    "    print(s.lengthOfLongestSubstring('bbbb'))\n",
    "    print(s.lengthOfLongestSubstring('pwwkew'))"
   ]
  },
  {
   "cell_type": "markdown",
   "metadata": {},
   "source": [
    "### Complexity Analysis  \n",
    "- Time complexity: $O(n^3)$.\n",
    "To verify if characters within index range $[i, j)$ are all unique, we need to scan all of them. Thus, it costs $O(j - i)$ time.  \n",
    "  \n",
    "For a given $i$, the sum of time costed by each $j \\in [i+1, n]$ is $\\sum_{i+1}^{n} O(j-1)$.\n",
    "  \n",
    "Thus, the sum of all the time consumption is:  \n",
    "\\begin{equation}\n",
    "O\\left(\\sum_{i=0}^{n-1} \\left( \\sum_{j=i+1}^{n} \\left( j-i \\right) \\right) \\right) = O\\left( \\sum_{i=0}^{n-1} \\dfrac{(1+n-i)(n-i)}{2}\\right) = O(n^3)\n",
    "\\end{equation}  \n",
    "  \n",
    "- Space complexity: $O(min(n, m))$. We need $O(k)$ space for checking a substring has no duplicate characters, where $k$ is the size of the **set**. The size of the Set is upper bounded by the size of the string $n$ and the size of the charact"
   ]
  },
  {
   "cell_type": "markdown",
   "metadata": {},
   "source": [
    "## Approach 2: Sliding Window  \n",
    "#### Algorithm  \n",
    "  \n",
    "The naive appraoch is very straightforward. But it is too slow. So how can we optimize it?  \n",
    "  \n",
    "In the naive approaches, we repeatedly check a substring to see if it has duplicate character. But it is unnecessary. If a substring $s_{ij}$ from index $i$ to $j - 1$ is already checked to have no duplicate chracters. We only need to check if $s[j]$ is lready in the substring $s_{ij}$.  \n",
    "  \n",
    "To check if a character is already in the substring, we can scan the substring, which leads to an $O(n^2)$ algorithm. But we can do better.  \n",
    "  \n",
    "By using HashSet as a sliding window, checking if a chracter in the current can be done in $O(1)$.  \n",
    "\n",
    "    \n",
    "A sliding window is an abstract concept commonly used in array/string problems. A window is a range of elements in the array/string which usually defined by the start and end indices, i.e. $[i, j)$ (left-closed, right-open). A sliding window \"slides\" its two boundaries to the certain direction. For example, if we slide $[i, j)$ to the right by $1$ element, then it becomes $[i + 1, j+1)$ (left-closed, right-open).  \n",
    "  \n",
    "Back to our problem. We use HashSet to store the characters in current window $[i, j)$ ($j = i$ initially). Then we slide the index $j$ to the right. If it is not in the HashSet, we slide $j$ further. Doing so until $s[j]$ is already in the HashSet. At this point, we found the maximum size of substrings without duplicate chracters start with index $i$. If we do this for all $i$, we get our answer. "
   ]
  },
  {
   "cell_type": "code",
   "execution_count": 11,
   "metadata": {},
   "outputs": [
    {
     "name": "stdout",
     "output_type": "stream",
     "text": [
      "3\n",
      "1\n",
      "3\n"
     ]
    }
   ],
   "source": [
    "class Solution:\n",
    "    def lengthOfLongestSubstring(self, s):\n",
    "        n = len(s)\n",
    "        set_dic = dict()\n",
    "        ans = i = j =0\n",
    "        \n",
    "        while (i < n) & (j < n):\n",
    "            # try to extend the range [i, j]\n",
    "            try:\n",
    "                set_dic[s[j]]\n",
    "                \n",
    "                del set_dic[s[i]]\n",
    "                i += 1 # move i\n",
    "            except KeyError:\n",
    "                set_dic[s[j]] = 0\n",
    "                j += 1  # move j\n",
    "                ans = max(ans, j - i)\n",
    "                \n",
    "        return ans\n",
    "\n",
    "                \n",
    "if __name__ == '__main__':\n",
    "    s = Solution()\n",
    "    print(s.lengthOfLongestSubstring('abcabcbb'))\n",
    "    print(s.lengthOfLongestSubstring('bbbb'))\n",
    "    print(s.lengthOfLongestSubstring('pwwkew'))"
   ]
  },
  {
   "cell_type": "markdown",
   "metadata": {},
   "source": [
    "### Complexity Analysis  \n",
    "  \n",
    "- Time complexity: $O(2n) = O(n)$. In the worst case each character will be visited twice by $i$ and $j$.  \n",
    "  \n",
    "- Space complexity: $O(min(m, n))$. Same as the previous appraoch. We need $O(k)$ space for the sliding window, where $k$ is the size of the **set**. The size of the "
   ]
  }
 ],
 "metadata": {
  "kernelspec": {
   "display_name": "Python 3",
   "language": "python",
   "name": "python3"
  },
  "language_info": {
   "codemirror_mode": {
    "name": "ipython",
    "version": 3
   },
   "file_extension": ".py",
   "mimetype": "text/x-python",
   "name": "python",
   "nbconvert_exporter": "python",
   "pygments_lexer": "ipython3",
   "version": "3.6.8"
  }
 },
 "nbformat": 4,
 "nbformat_minor": 2
}
