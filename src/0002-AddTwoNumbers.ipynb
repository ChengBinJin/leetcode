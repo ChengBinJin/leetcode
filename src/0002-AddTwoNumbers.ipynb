{
 "cells": [
  {
   "cell_type": "markdown",
   "metadata": {},
   "source": [
    "# Add Two Numbers  \n",
    "\n",
    "You are given two non-empty linked lists representing two non-negative integers. The digits are stored in **reverse order** and each of their nodes contain a single digit. Add the two numbers and return it as linked list.  \n",
    "  \n",
    "You may assume the two numbers do not contain any leading zero, except the number 0 itself."
   ]
  },
  {
   "cell_type": "markdown",
   "metadata": {},
   "source": [
    "## Example:  \n",
    "**Input:** (2 $\\rightarrow$ 4 $\\rightarrow$ 3) + (5 $\\rightarrow$ 6 $\\rightarrow$ 4)  \n",
    "__Output:__ 7 $\\rightarrow$ 0 $\\rightarrow$ 8  \n",
    "**Explanation:** 342 + 465 = 807.  \n"
   ]
  },
  {
   "cell_type": "code",
   "execution_count": null,
   "metadata": {},
   "outputs": [],
   "source": [
    "# Definition for singly-linked list.\n",
    "# class ListNode:\n",
    "#     def __init__(self, x):\n",
    "#         self.val = x\n",
    "#         self.next = None\n",
    "\n",
    "class Solution:\n",
    "    def addTwoNumbers(self, l1: ListNode, l2: ListNode) -> ListNode:"
   ]
  },
  {
   "attachments": {
    "2_add_two_numbers.svg": {
     "image/svg+xml": [
      "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"
     ]
    }
   },
   "cell_type": "markdown",
   "metadata": {},
   "source": [
    "## Approach 1: Elementary Math  \n",
    "  \n",
    "#### Intuition  \n",
    "Keep track of the carry using a variable and simulate digits-by-digits sum starting from the head of list, which contains the least-significant digit.    \n",
    "  \n",
    "![2_add_two_numbers.svg](attachment:2_add_two_numbers.svg)  \n",
    "*Figure 1. Visualization of the addition of two numbers: $342 + 465 = 807$. Each node contains a single digit and the digits are stored in reverse order.*  \n",
    "  \n",
    "#### Algorithm  \n",
    "  \n",
    "Just like how you would sum two numbers on a piece of paper, we begin by summing the least-significant digits, which is the head of $l_1$ and $l_2$. Since each digit is in the range of $0...9$, summing two digits may \"overflow\". For example $5 + 7 = 12$. In this case, we set the current digit to $2$ and bring over the $\\textit{carray} = 1$tp the next iteration. *carray* must be either $0$ or $1$ because the largest possible sum of two digits (including the carray) is $9 + 9 + 1 = 19$.  \n",
    "  \n",
    "The pseudocode is as following:\n",
    "- Initialize current node to dummy head of the returning list.  \n",
    "- Initialize carray to $0$.\n",
    "- Initialize $p$ and $q$ to head of $l_1$ and $l_2$ respectively.\n",
    "- Loop through lists $l_1$ and $l_2$ until you reach both ends.  \n",
    " - Set $x$ to node $p$'s value. If $p$ has reached the end of $l_1$, set to $0$.\n",
    " - Set $y$ to node $q$'s value. If $q$ has reached the end of $l_2$, set to $0$.\n",
    " - Set $sum = x + y + carray$.\n",
    " - Update $carray = sum / 10.$\n",
    " - Create a new node with the digit value of ($sum$ mod $10$) and set it to current node's next, then advance current node to next.\n",
    " - Advance both $p$ and $q$.  \n",
    "\n",
    " - Check if $carray = 1$, if so append a new node with digit $1$ to the returning list.\n",
    " - Return dummy head's next node.\n",
    "  \n",
    "Note that we use a dummy head to simplify the code. Without a dummy head, you would have to write extra conditional statements to initialize the head's value.  \n",
    "  \n",
    "Take extra caution of the following cases:  \n",
    "  \n",
    "| **Test case** | **Explanation**  |\n",
    "|:---|:---|\n",
    "| $l_1$ = [0, 1]  <br>$l_2$ = [0, 1, 2] | When one list is longer than the other. |\n",
    "| $l_1$ = []  <br>$l_2$ = [0, 1] | When one list is null, which means an empty list.|\n",
    "| $l_1$ = [9, 9]  <br>$l_2$ = [1] | The sum could have an extra carry of one at the end, which is easy to forget.|"
   ]
  },
  {
   "cell_type": "code",
   "execution_count": 1,
   "metadata": {},
   "outputs": [],
   "source": [
    "# Definition for singly-linked list.\n",
    "class ListNode(object):\n",
    "    def __init__(self, x):\n",
    "        self.val = x\n",
    "        self.next = None\n",
    "\n",
    "# Initialize ListNode\n",
    "def InitListNode(value):\n",
    "    print('Initialize: {}'.format(value))\n",
    "    start_node = ListNode(0)\n",
    "    curr_node = start_node\n",
    "    \n",
    "    while value is not None:\n",
    "        if value != 0:\n",
    "            node = ListNode(value % 10)\n",
    "            curr_node.next = node\n",
    "            curr_node = node\n",
    "            value = value // 10\n",
    "        else:\n",
    "            break\n",
    "        \n",
    "    return start_node.next\n",
    "\n",
    "# check\n",
    "def checkNode(node):\n",
    "    while node is not None:\n",
    "        print(node.val)\n",
    "        if node.next is not None:\n",
    "            node = node.next\n",
    "        else:\n",
    "            break\n",
    "    print()"
   ]
  },
  {
   "cell_type": "code",
   "execution_count": 2,
   "metadata": {},
   "outputs": [
    {
     "name": "stdout",
     "output_type": "stream",
     "text": [
      "Initialize: None\n",
      "\n",
      "Initialize: 10\n",
      "0\n",
      "1\n",
      "\n",
      "0\n",
      "1\n",
      "\n"
     ]
    }
   ],
   "source": [
    "class Solution(object):\n",
    "    def addTwoNumbers(self, l1, l2):\n",
    "        \"\"\"\n",
    "        :type l1: ListNode\n",
    "        :type l2: ListNode\n",
    "        :rtype: ListNode\n",
    "        \"\"\"\n",
    "        result = ListNode(0)\n",
    "        curr_node = result\n",
    "        carray = 0\n",
    "        \n",
    "        while l1 or l2 or carray:\n",
    "            val1 = l1.val if l1 else 0\n",
    "            val2 = l2.val if l2 else 0\n",
    "            carray, out = divmod(val1 + val2 + carray, 10)\n",
    "            \n",
    "            curr_node.next = ListNode(out)\n",
    "            curr_node = curr_node.next\n",
    "            \n",
    "            l1 = l1.next if l1 else None\n",
    "            l2 = l2.next if l2 else None\n",
    "            \n",
    "        return result.next\n",
    "\n",
    "if __name__ == '__main__':\n",
    "    l1 = InitListNode(None)\n",
    "    checkNode(l1)\n",
    "    \n",
    "    l2 = InitListNode(10)\n",
    "    checkNode(l2)\n",
    "    \n",
    "    s = Solution()\n",
    "    checkNode(s.addTwoNumbers(l1, l2))\n",
    "    \n",
    "    "
   ]
  },
  {
   "cell_type": "markdown",
   "metadata": {},
   "source": [
    "### Complexity Analysis\n",
    "- Time complexity: $O(max(m, n))$. Assume that $m$ and $n$ represents the length of $l_1$ and $l_2$ respectively, the algorithm above iterates at most $max(m, n)$ times.\n",
    "- Space complexity: $O(max(m, n))$. The length of the new list is at mode $max(m, n) + 1$."
   ]
  },
  {
   "cell_type": "markdown",
   "metadata": {},
   "source": [
    "#### Follow up  \n",
    "  \n",
    "What if the digits in the linked list are stored in non-reversed order? For example:  \n",
    "  \n",
    "$(3 \\rightarrow 4 \\rightarrow 2) + (4 \\rightarrow 6 \\rightarrow 5) = 8 \\rightarrow 0 \\rightarrow 7$"
   ]
  }
 ],
 "metadata": {
  "kernelspec": {
   "display_name": "Python 3",
   "language": "python",
   "name": "python3"
  },
  "language_info": {
   "codemirror_mode": {
    "name": "ipython",
    "version": 3
   },
   "file_extension": ".py",
   "mimetype": "text/x-python",
   "name": "python",
   "nbconvert_exporter": "python",
   "pygments_lexer": "ipython3",
   "version": "3.7.4"
  }
 },
 "nbformat": 4,
 "nbformat_minor": 2
}
